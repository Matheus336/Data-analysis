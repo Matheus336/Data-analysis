import cv2
import numpy as np
from IPython.display import display, Javascript
from google.colab.output import eval_js
from base64 import b64decode
from google.colab.patches import cv2_imshow 


# JavaScript para capturar e finalizar vídeo
def video_stream():
    js = Javascript('''
    let video;
    let canvas;
    let stream;

    async function create_stream() {
        if (!video) {
            video = document.createElement('video');
            video.style.border = '2px solid black';
            video.setAttribute('playsinline', '');
            stream = await navigator.mediaDevices.getUserMedia({video: true});
            video.srcObject = stream;
            document.body.appendChild(video);
            await video.play();

            canvas = document.createElement('canvas');
            canvas.width = video.videoWidth;
            canvas.height = video.videoHeight;
        }

        const ctx = canvas.getContext('2d');
        ctx.drawImage(video, 0, 0);
        return canvas.toDataURL('image/jpeg', 0.8);
    }

    function stop_stream() {
        if (stream) {
            const tracks = stream.getTracks();
            tracks.forEach(track => track.stop());
            stream = null;
        }
        if (video) {
            video.remove();
            video = null;
        }
        if (canvas) {
            canvas.remove();
            canvas = null;
        }
    }
    ''')
    display(js)



# Função que converte a imagem do JavaScript para o formato OpenCV
def js_to_image(js_reply):
    image_bytes = b64decode(js_reply.split(',')[1])
    jpg_as_np = np.frombuffer(image_bytes, dtype=np.uint8)
    return cv2.imdecode(jpg_as_np, flags=1)



# Filto realce de detalhes
def enhancement_filter(frame):
    blurred = cv2.GaussianBlur(frame, (25, 25), 0)
    return cv2.add(frame, cv2.subtract(frame, blurred))



# Filtro sépia
def sepia_filter(frame):
    filtro_sepia = np.array([[0.272, 0.534, 0.131], [0.349, 0.686, 0.168], [0.393, 0.769, 0.189]])
    frame_sepia = cv2.transform(frame, filtro_sepia)
    return cv2.convertScaleAbs(frame_sepia)



# Filto pintura a óleo
def oil_painting_filter(frame):
    return cv2.medianBlur(cv2.bilateralFilter(frame, 9, 75, 75), 7)



# Inicia captura de vídeo
video_stream()

try:
    for _ in range(1):  
        js_reply = eval_js("create_stream()")  # Captura um frame da webcam
        if not js_reply:
            break

        frame = js_to_image(js_reply)
        frame = cv2.cvtColor(frame, cv2.COLOR_BGR2RGB)

        print("Imagem Original:")
        cv2_imshow(frame)

        processed_frame = frame
        for filter_name, filter_func in [
            ("filto: Realce de detalhes", enhancement_filter),
            ("filto: Sépia", sepia_filter),
            ("filto: Pintura a óleo", oil_painting_filter)
        ]:
            processed_frame = filter_func(processed_frame)
            print(f"Após o {filter_name}")
            cv2_imshow(processed_frame)

except Exception as e:
    print(f"Erro: {e}")
finally:
    eval_js("stop_stream()")  
    print("Captura finalizada.")